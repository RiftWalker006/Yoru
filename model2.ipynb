import pandas as pd
from sklearn.model_selection import train_test_split
from sklearn.ensemble import RandomForestClassifier
from sklearn.metrics import classification_report

df = pd.read_csv('dataset.csv')

X = df[['Age_band_of_driver', 'Educational_level', 'Vehicle_driver_relation',
        'Driving_experience', 'Lanes_or_Medians', 'Types_of_Junction',
        'Road_surface_type', 'Light_conditions', 'Weather_conditions',
        'Type_of_collision', 'Vehicle_movement', 'Pedestrian_movement',
        'Cause_of_accident']]

y = df['Accident_severity']

X = pd.get_dummies(X, drop_first=True)

# Use RandomForestClassifier and set class_weight='balanced'
X_train, X_test, y_train, y_test = train_test_split(X, y, test_size=0.2, random_state=42, stratify=y)
model = RandomForestClassifier(class_weight='balanced', random_state=42)
model.fit(X_train, y_train)

y_pred = model.predict(X_test)
classification_rep = classification_report(y_test, y_pred)
print("Classification Report:")
print(classification_rep)

# Predicting for female drivers
femaledf = df[df['Sex_of_driver'] == 'Female']
X_female = femaledf[['Age_band_of_driver', 'Educational_level', 'Vehicle_driver_relation',
                     'Driving_experience', 'Lanes_or_Medians', 'Types_of_Junction',
                     'Road_surface_type', 'Light_conditions', 'Weather_conditions',
                     'Type_of_collision', 'Vehicle_movement', 'Pedestrian_movement',
                     'Cause_of_accident']]

X_female = pd.get_dummies(X_female, drop_first=True)

# Reorder the columns to match X_train columns and handle missing columns
X_female = X_female.reindex(columns=X_train.columns, fill_value=0)

predictions_female = model.predict(X_female)
average_prediction = predictions_female.mean()

if average_prediction <= 0.5:
    print("The model predicts that the female driver is likely to have a lower accident severity.")
else:
    print("The model predicts that the female driver is likely to have a higher accident severity.")
